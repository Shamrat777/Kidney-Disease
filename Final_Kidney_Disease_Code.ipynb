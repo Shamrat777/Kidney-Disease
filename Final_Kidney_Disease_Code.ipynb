{
 "cells": [
  {
   "cell_type": "code",
   "execution_count": null,
   "metadata": {
    "colab": {
     "base_uri": "https://localhost:8080/",
     "height": 449,
     "resources": {
      "http://localhost:8080/nbextensions/google.colab/files.js": {
       "data": "Ly8gQ29weXJpZ2h0IDIwMTcgR29vZ2xlIExMQwovLwovLyBMaWNlbnNlZCB1bmRlciB0aGUgQXBhY2hlIExpY2Vuc2UsIFZlcnNpb24gMi4wICh0aGUgIkxpY2Vuc2UiKTsKLy8geW91IG1heSBub3QgdXNlIHRoaXMgZmlsZSBleGNlcHQgaW4gY29tcGxpYW5jZSB3aXRoIHRoZSBMaWNlbnNlLgovLyBZb3UgbWF5IG9idGFpbiBhIGNvcHkgb2YgdGhlIExpY2Vuc2UgYXQKLy8KLy8gICAgICBodHRwOi8vd3d3LmFwYWNoZS5vcmcvbGljZW5zZXMvTElDRU5TRS0yLjAKLy8KLy8gVW5sZXNzIHJlcXVpcmVkIGJ5IGFwcGxpY2FibGUgbGF3IG9yIGFncmVlZCB0byBpbiB3cml0aW5nLCBzb2Z0d2FyZQovLyBkaXN0cmlidXRlZCB1bmRlciB0aGUgTGljZW5zZSBpcyBkaXN0cmlidXRlZCBvbiBhbiAiQVMgSVMiIEJBU0lTLAovLyBXSVRIT1VUIFdBUlJBTlRJRVMgT1IgQ09ORElUSU9OUyBPRiBBTlkgS0lORCwgZWl0aGVyIGV4cHJlc3Mgb3IgaW1wbGllZC4KLy8gU2VlIHRoZSBMaWNlbnNlIGZvciB0aGUgc3BlY2lmaWMgbGFuZ3VhZ2UgZ292ZXJuaW5nIHBlcm1pc3Npb25zIGFuZAovLyBsaW1pdGF0aW9ucyB1bmRlciB0aGUgTGljZW5zZS4KCi8qKgogKiBAZmlsZW92ZXJ2aWV3IEhlbHBlcnMgZm9yIGdvb2dsZS5jb2xhYiBQeXRob24gbW9kdWxlLgogKi8KKGZ1bmN0aW9uKHNjb3BlKSB7CmZ1bmN0aW9uIHNwYW4odGV4dCwgc3R5bGVBdHRyaWJ1dGVzID0ge30pIHsKICBjb25zdCBlbGVtZW50ID0gZG9jdW1lbnQuY3JlYXRlRWxlbWVudCgnc3BhbicpOwogIGVsZW1lbnQudGV4dENvbnRlbnQgPSB0ZXh0OwogIGZvciAoY29uc3Qga2V5IG9mIE9iamVjdC5rZXlzKHN0eWxlQXR0cmlidXRlcykpIHsKICAgIGVsZW1lbnQuc3R5bGVba2V5XSA9IHN0eWxlQXR0cmlidXRlc1trZXldOwogIH0KICByZXR1cm4gZWxlbWVudDsKfQoKLy8gTWF4IG51bWJlciBvZiBieXRlcyB3aGljaCB3aWxsIGJlIHVwbG9hZGVkIGF0IGEgdGltZS4KY29uc3QgTUFYX1BBWUxPQURfU0laRSA9IDEwMCAqIDEwMjQ7CgpmdW5jdGlvbiBfdXBsb2FkRmlsZXMoaW5wdXRJZCwgb3V0cHV0SWQpIHsKICBjb25zdCBzdGVwcyA9IHVwbG9hZEZpbGVzU3RlcChpbnB1dElkLCBvdXRwdXRJZCk7CiAgY29uc3Qgb3V0cHV0RWxlbWVudCA9IGRvY3VtZW50LmdldEVsZW1lbnRCeUlkKG91dHB1dElkKTsKICAvLyBDYWNoZSBzdGVwcyBvbiB0aGUgb3V0cHV0RWxlbWVudCB0byBtYWtlIGl0IGF2YWlsYWJsZSBmb3IgdGhlIG5leHQgY2FsbAogIC8vIHRvIHVwbG9hZEZpbGVzQ29udGludWUgZnJvbSBQeXRob24uCiAgb3V0cHV0RWxlbWVudC5zdGVwcyA9IHN0ZXBzOwoKICByZXR1cm4gX3VwbG9hZEZpbGVzQ29udGludWUob3V0cHV0SWQpOwp9CgovLyBUaGlzIGlzIHJvdWdobHkgYW4gYXN5bmMgZ2VuZXJhdG9yIChub3Qgc3VwcG9ydGVkIGluIHRoZSBicm93c2VyIHlldCksCi8vIHdoZXJlIHRoZXJlIGFyZSBtdWx0aXBsZSBhc3luY2hyb25vdXMgc3RlcHMgYW5kIHRoZSBQeXRob24gc2lkZSBpcyBnb2luZwovLyB0byBwb2xsIGZvciBjb21wbGV0aW9uIG9mIGVhY2ggc3RlcC4KLy8gVGhpcyB1c2VzIGEgUHJvbWlzZSB0byBibG9jayB0aGUgcHl0aG9uIHNpZGUgb24gY29tcGxldGlvbiBvZiBlYWNoIHN0ZXAsCi8vIHRoZW4gcGFzc2VzIHRoZSByZXN1bHQgb2YgdGhlIHByZXZpb3VzIHN0ZXAgYXMgdGhlIGlucHV0IHRvIHRoZSBuZXh0IHN0ZXAuCmZ1bmN0aW9uIF91cGxvYWRGaWxlc0NvbnRpbnVlKG91dHB1dElkKSB7CiAgY29uc3Qgb3V0cHV0RWxlbWVudCA9IGRvY3VtZW50LmdldEVsZW1lbnRCeUlkKG91dHB1dElkKTsKICBjb25zdCBzdGVwcyA9IG91dHB1dEVsZW1lbnQuc3RlcHM7CgogIGNvbnN0IG5leHQgPSBzdGVwcy5uZXh0KG91dHB1dEVsZW1lbnQubGFzdFByb21pc2VWYWx1ZSk7CiAgcmV0dXJuIFByb21pc2UucmVzb2x2ZShuZXh0LnZhbHVlLnByb21pc2UpLnRoZW4oKHZhbHVlKSA9PiB7CiAgICAvLyBDYWNoZSB0aGUgbGFzdCBwcm9taXNlIHZhbHVlIHRvIG1ha2UgaXQgYXZhaWxhYmxlIHRvIHRoZSBuZXh0CiAgICAvLyBzdGVwIG9mIHRoZSBnZW5lcmF0b3IuCiAgICBvdXRwdXRFbGVtZW50Lmxhc3RQcm9taXNlVmFsdWUgPSB2YWx1ZTsKICAgIHJldHVybiBuZXh0LnZhbHVlLnJlc3BvbnNlOwogIH0pOwp9CgovKioKICogR2VuZXJhdG9yIGZ1bmN0aW9uIHdoaWNoIGlzIGNhbGxlZCBiZXR3ZWVuIGVhY2ggYXN5bmMgc3RlcCBvZiB0aGUgdXBsb2FkCiAqIHByb2Nlc3MuCiAqIEBwYXJhbSB7c3RyaW5nfSBpbnB1dElkIEVsZW1lbnQgSUQgb2YgdGhlIGlucHV0IGZpbGUgcGlja2VyIGVsZW1lbnQuCiAqIEBwYXJhbSB7c3RyaW5nfSBvdXRwdXRJZCBFbGVtZW50IElEIG9mIHRoZSBvdXRwdXQgZGlzcGxheS4KICogQHJldHVybiB7IUl0ZXJhYmxlPCFPYmplY3Q+fSBJdGVyYWJsZSBvZiBuZXh0IHN0ZXBzLgogKi8KZnVuY3Rpb24qIHVwbG9hZEZpbGVzU3RlcChpbnB1dElkLCBvdXRwdXRJZCkgewogIGNvbnN0IGlucHV0RWxlbWVudCA9IGRvY3VtZW50LmdldEVsZW1lbnRCeUlkKGlucHV0SWQpOwogIGlucHV0RWxlbWVudC5kaXNhYmxlZCA9IGZhbHNlOwoKICBjb25zdCBvdXRwdXRFbGVtZW50ID0gZG9jdW1lbnQuZ2V0RWxlbWVudEJ5SWQob3V0cHV0SWQpOwogIG91dHB1dEVsZW1lbnQuaW5uZXJIVE1MID0gJyc7CgogIGNvbnN0IHBpY2tlZFByb21pc2UgPSBuZXcgUHJvbWlzZSgocmVzb2x2ZSkgPT4gewogICAgaW5wdXRFbGVtZW50LmFkZEV2ZW50TGlzdGVuZXIoJ2NoYW5nZScsIChlKSA9PiB7CiAgICAgIHJlc29sdmUoZS50YXJnZXQuZmlsZXMpOwogICAgfSk7CiAgfSk7CgogIGNvbnN0IGNhbmNlbCA9IGRvY3VtZW50LmNyZWF0ZUVsZW1lbnQoJ2J1dHRvbicpOwogIGlucHV0RWxlbWVudC5wYXJlbnRFbGVtZW50LmFwcGVuZENoaWxkKGNhbmNlbCk7CiAgY2FuY2VsLnRleHRDb250ZW50ID0gJ0NhbmNlbCB1cGxvYWQnOwogIGNvbnN0IGNhbmNlbFByb21pc2UgPSBuZXcgUHJvbWlzZSgocmVzb2x2ZSkgPT4gewogICAgY2FuY2VsLm9uY2xpY2sgPSAoKSA9PiB7CiAgICAgIHJlc29sdmUobnVsbCk7CiAgICB9OwogIH0pOwoKICAvLyBXYWl0IGZvciB0aGUgdXNlciB0byBwaWNrIHRoZSBmaWxlcy4KICBjb25zdCBmaWxlcyA9IHlpZWxkIHsKICAgIHByb21pc2U6IFByb21pc2UucmFjZShbcGlja2VkUHJvbWlzZSwgY2FuY2VsUHJvbWlzZV0pLAogICAgcmVzcG9uc2U6IHsKICAgICAgYWN0aW9uOiAnc3RhcnRpbmcnLAogICAgfQogIH07CgogIGNhbmNlbC5yZW1vdmUoKTsKCiAgLy8gRGlzYWJsZSB0aGUgaW5wdXQgZWxlbWVudCBzaW5jZSBmdXJ0aGVyIHBpY2tzIGFyZSBub3QgYWxsb3dlZC4KICBpbnB1dEVsZW1lbnQuZGlzYWJsZWQgPSB0cnVlOwoKICBpZiAoIWZpbGVzKSB7CiAgICByZXR1cm4gewogICAgICByZXNwb25zZTogewogICAgICAgIGFjdGlvbjogJ2NvbXBsZXRlJywKICAgICAgfQogICAgfTsKICB9CgogIGZvciAoY29uc3QgZmlsZSBvZiBmaWxlcykgewogICAgY29uc3QgbGkgPSBkb2N1bWVudC5jcmVhdGVFbGVtZW50KCdsaScpOwogICAgbGkuYXBwZW5kKHNwYW4oZmlsZS5uYW1lLCB7Zm9udFdlaWdodDogJ2JvbGQnfSkpOwogICAgbGkuYXBwZW5kKHNwYW4oCiAgICAgICAgYCgke2ZpbGUudHlwZSB8fCAnbi9hJ30pIC0gJHtmaWxlLnNpemV9IGJ5dGVzLCBgICsKICAgICAgICBgbGFzdCBtb2RpZmllZDogJHsKICAgICAgICAgICAgZmlsZS5sYXN0TW9kaWZpZWREYXRlID8gZmlsZS5sYXN0TW9kaWZpZWREYXRlLnRvTG9jYWxlRGF0ZVN0cmluZygpIDoKICAgICAgICAgICAgICAgICAgICAgICAgICAgICAgICAgICAgJ24vYSd9IC0gYCkpOwogICAgY29uc3QgcGVyY2VudCA9IHNwYW4oJzAlIGRvbmUnKTsKICAgIGxpLmFwcGVuZENoaWxkKHBlcmNlbnQpOwoKICAgIG91dHB1dEVsZW1lbnQuYXBwZW5kQ2hpbGQobGkpOwoKICAgIGNvbnN0IGZpbGVEYXRhUHJvbWlzZSA9IG5ldyBQcm9taXNlKChyZXNvbHZlKSA9PiB7CiAgICAgIGNvbnN0IHJlYWRlciA9IG5ldyBGaWxlUmVhZGVyKCk7CiAgICAgIHJlYWRlci5vbmxvYWQgPSAoZSkgPT4gewogICAgICAgIHJlc29sdmUoZS50YXJnZXQucmVzdWx0KTsKICAgICAgfTsKICAgICAgcmVhZGVyLnJlYWRBc0FycmF5QnVmZmVyKGZpbGUpOwogICAgfSk7CiAgICAvLyBXYWl0IGZvciB0aGUgZGF0YSB0byBiZSByZWFkeS4KICAgIGxldCBmaWxlRGF0YSA9IHlpZWxkIHsKICAgICAgcHJvbWlzZTogZmlsZURhdGFQcm9taXNlLAogICAgICByZXNwb25zZTogewogICAgICAgIGFjdGlvbjogJ2NvbnRpbnVlJywKICAgICAgfQogICAgfTsKCiAgICAvLyBVc2UgYSBjaHVua2VkIHNlbmRpbmcgdG8gYXZvaWQgbWVzc2FnZSBzaXplIGxpbWl0cy4gU2VlIGIvNjIxMTU2NjAuCiAgICBsZXQgcG9zaXRpb24gPSAwOwogICAgZG8gewogICAgICBjb25zdCBsZW5ndGggPSBNYXRoLm1pbihmaWxlRGF0YS5ieXRlTGVuZ3RoIC0gcG9zaXRpb24sIE1BWF9QQVlMT0FEX1NJWkUpOwogICAgICBjb25zdCBjaHVuayA9IG5ldyBVaW50OEFycmF5KGZpbGVEYXRhLCBwb3NpdGlvbiwgbGVuZ3RoKTsKICAgICAgcG9zaXRpb24gKz0gbGVuZ3RoOwoKICAgICAgY29uc3QgYmFzZTY0ID0gYnRvYShTdHJpbmcuZnJvbUNoYXJDb2RlLmFwcGx5KG51bGwsIGNodW5rKSk7CiAgICAgIHlpZWxkIHsKICAgICAgICByZXNwb25zZTogewogICAgICAgICAgYWN0aW9uOiAnYXBwZW5kJywKICAgICAgICAgIGZpbGU6IGZpbGUubmFtZSwKICAgICAgICAgIGRhdGE6IGJhc2U2NCwKICAgICAgICB9LAogICAgICB9OwoKICAgICAgbGV0IHBlcmNlbnREb25lID0gZmlsZURhdGEuYnl0ZUxlbmd0aCA9PT0gMCA/CiAgICAgICAgICAxMDAgOgogICAgICAgICAgTWF0aC5yb3VuZCgocG9zaXRpb24gLyBmaWxlRGF0YS5ieXRlTGVuZ3RoKSAqIDEwMCk7CiAgICAgIHBlcmNlbnQudGV4dENvbnRlbnQgPSBgJHtwZXJjZW50RG9uZX0lIGRvbmVgOwoKICAgIH0gd2hpbGUgKHBvc2l0aW9uIDwgZmlsZURhdGEuYnl0ZUxlbmd0aCk7CiAgfQoKICAvLyBBbGwgZG9uZS4KICB5aWVsZCB7CiAgICByZXNwb25zZTogewogICAgICBhY3Rpb246ICdjb21wbGV0ZScsCiAgICB9CiAgfTsKfQoKc2NvcGUuZ29vZ2xlID0gc2NvcGUuZ29vZ2xlIHx8IHt9OwpzY29wZS5nb29nbGUuY29sYWIgPSBzY29wZS5nb29nbGUuY29sYWIgfHwge307CnNjb3BlLmdvb2dsZS5jb2xhYi5fZmlsZXMgPSB7CiAgX3VwbG9hZEZpbGVzLAogIF91cGxvYWRGaWxlc0NvbnRpbnVlLAp9Owp9KShzZWxmKTsK",
       "headers": [
        [
         "content-type",
         "application/javascript"
        ]
       ],
       "ok": true,
       "status": 200,
       "status_text": ""
      }
     }
    },
    "id": "LfJeletdkd6j",
    "outputId": "e07a23f2-a6bc-4fe7-b136-b9941cd5482b"
   },
   "outputs": [],
   "source": [
    "import numpy as np \n",
    "import pandas as pd\n",
    "import torch.nn as nn\n",
    "import matplotlib.pyplot as plt \n",
    "import  seaborn as sna\n",
    "from google.colab import files \n",
    "uploded = files.upload()\n",
    "df= pd.read_csv('kidney_disease-1.csv')\n",
    "df.head(10)"
   ]
  },
  {
   "cell_type": "code",
   "execution_count": null,
   "metadata": {
    "colab": {
     "base_uri": "https://localhost:8080/"
    },
    "id": "PiO-ZwtAkmoM",
    "outputId": "2e2bb077-f15c-437a-b8e7-330063d9c1ab"
   },
   "outputs": [],
   "source": [
    "df.shape"
   ]
  },
  {
   "cell_type": "code",
   "execution_count": null,
   "metadata": {
    "colab": {
     "base_uri": "https://localhost:8080/"
    },
    "id": "iM-PoQVOko-v",
    "outputId": "3c30002e-f05d-4a4b-e8c8-f58685547329"
   },
   "outputs": [],
   "source": [
    "df.dtypes"
   ]
  },
  {
   "cell_type": "code",
   "execution_count": null,
   "metadata": {
    "id": "I8ecc10tkptV"
   },
   "outputs": [],
   "source": [
    "# Mapping the text to 1/0 and cleaning the dataset \n",
    "df[['htn','dm','cad','pe','ane']] = df[['htn','dm','cad','pe','ane']].replace(to_replace={'yes':1,'no':0})\n",
    "df[['rbc','pc']] = df[['rbc','pc']].replace(to_replace={'abnormal':1,'normal':0})\n",
    "df[['pcc','ba']] = df[['pcc','ba']].replace(to_replace={'present':1,'notpresent':0})\n",
    "df[['appet']] = df[['appet']].replace(to_replace={'good':1,'poor':0,'no':np.nan})\n",
    "df['classification'] = df['classification'].replace(to_replace={'ckd':1.0,'ckd\\t':1.0,'notckd':0.0,'no':0.0})\n",
    "df.rename(columns={'classification':'class'},inplace=True)\n",
    "df['pe'] = df['pe'].replace(to_replace='good',value=0) # Not having pedal edema is good\n",
    "df['appet'] = df['appet'].replace(to_replace='no',value=0)\n",
    "df['cad'] = df['cad'].replace(to_replace='\\tno',value=0)\n",
    "df['dm'] = df['dm'].replace(to_replace={'\\tno':0,'\\tyes':1,' yes':1, '':np.nan})\n",
    "df.drop('id',axis=1,inplace=True)"
   ]
  },
  {
   "cell_type": "code",
   "execution_count": null,
   "metadata": {
    "colab": {
     "base_uri": "https://localhost:8080/"
    },
    "id": "HKVE7wyKktxe",
    "outputId": "9c4bf753-7092-48d2-c56f-edca4a85c3a9"
   },
   "outputs": [],
   "source": [
    "df.dtypes"
   ]
  },
  {
   "cell_type": "code",
   "execution_count": null,
   "metadata": {
    "colab": {
     "base_uri": "https://localhost:8080/"
    },
    "id": "J3VSP2r6kwMz",
    "outputId": "fb6687eb-e5af-4218-e95a-0e3cd6ab4c2a"
   },
   "outputs": [],
   "source": [
    "df.isna().values.any()"
   ]
  },
  {
   "cell_type": "code",
   "execution_count": null,
   "metadata": {
    "colab": {
     "base_uri": "https://localhost:8080/"
    },
    "id": "O4NEUKGlkyx_",
    "outputId": "0527b36c-05c8-4dfb-ca38-90a6ad5fe66d"
   },
   "outputs": [],
   "source": [
    "df.info()"
   ]
  },
  {
   "cell_type": "code",
   "execution_count": null,
   "metadata": {
    "colab": {
     "base_uri": "https://localhost:8080/",
     "height": 357
    },
    "id": "X9HqqUahk1c_",
    "outputId": "50f7d620-02a0-483b-8bc2-7f605e331281"
   },
   "outputs": [],
   "source": [
    "sna.countplot(df['class'])\n",
    "plt.ylabel('Total numbers of 0 to 4 values')\n",
    "plt.xlabel('Actual numbers in the database')"
   ]
  },
  {
   "cell_type": "code",
   "execution_count": null,
   "metadata": {
    "colab": {
     "base_uri": "https://localhost:8080/",
     "height": 303
    },
    "id": "Ixm9ny75k4um",
    "outputId": "e5446f50-42a2-43ae-aa7f-9c0c56b594f5"
   },
   "outputs": [],
   "source": [
    "#sna.countplot(df['Power'], label = 'count')\n",
    "plt.figure(figsize=(5,4))\n",
    "sna.set(style=\"darkgrid\")\n",
    "ax = sna.countplot(x=\"class\", data=df)\n",
    "plt.ylabel('Total numbers')\n",
    "plt.xlabel('Convert them into 0 and 1')"
   ]
  },
  {
   "cell_type": "code",
   "execution_count": null,
   "metadata": {
    "colab": {
     "base_uri": "https://localhost:8080/"
    },
    "id": "frJjsw8fk9jG",
    "outputId": "e0c945df-2f25-4b66-8d80-372a60a95f3f"
   },
   "outputs": [],
   "source": [
    "df.isna().sum()"
   ]
  },
  {
   "cell_type": "code",
   "execution_count": null,
   "metadata": {
    "id": "Sq1wb9mHe1dw"
   },
   "outputs": [],
   "source": [
    "from sklearn.impute import SimpleImputer\n",
    "s_imputer =SimpleImputer(missing_values=np.nan,strategy='mean',verbose=0)\n",
    "s_imputer =s_imputer.fit(df.iloc[:, 0:15])\n",
    "df.iloc[:, 0:15]=s_imputer.transform(df.iloc[:, 0:15])\n",
    "\n",
    "from sklearn.impute import SimpleImputer\n",
    "s_imputer =SimpleImputer(missing_values=np.nan,strategy='mean',verbose=0)\n",
    "s_imputer =s_imputer.fit(df.iloc[:, 16:17])\n",
    "df.iloc[:, 16:17]=s_imputer.transform(df.iloc[:, 16:17])\n",
    "\n",
    "from sklearn.impute import SimpleImputer\n",
    "s_imputer =SimpleImputer(missing_values=np.nan,strategy='mean',verbose=0)\n",
    "s_imputer =s_imputer.fit(df.iloc[:, 18:24])\n",
    "df.iloc[:, 18:24]=s_imputer.transform(df.iloc[:, 18:24])"
   ]
  },
  {
   "cell_type": "code",
   "execution_count": null,
   "metadata": {
    "colab": {
     "base_uri": "https://localhost:8080/"
    },
    "id": "DXlooaYzlE0v",
    "outputId": "5e2fdbe2-ace2-44f5-e733-885276c22f04"
   },
   "outputs": [],
   "source": [
    "df.isna().sum()"
   ]
  },
  {
   "cell_type": "code",
   "execution_count": null,
   "metadata": {
    "colab": {
     "base_uri": "https://localhost:8080/",
     "height": 672
    },
    "id": "qESxNGrolIGY",
    "outputId": "2cf48143-4ffd-4872-9026-54e8256cc790"
   },
   "outputs": [],
   "source": [
    "plt.figure(figsize=(18,18))\n",
    "matrix = np.triu(df.corr())\n",
    "sna.heatmap(df.corr(), annot=True,cmap=\"magma\", mask=matrix)\n",
    "plt.show()"
   ]
  },
  {
   "cell_type": "code",
   "execution_count": null,
   "metadata": {
    "colab": {
     "base_uri": "https://localhost:8080/",
     "height": 392
    },
    "id": "T4RWnvjZlKtH",
    "outputId": "d92c03c8-348e-45c3-ce29-439388098a64"
   },
   "outputs": [],
   "source": [
    "import pandas as pd\n",
    "from sklearn import preprocessing\n",
    "x = df.values #returns a numpy array\n",
    "min_max_scaler = preprocessing.MinMaxScaler()\n",
    "x_scaled = min_max_scaler.fit_transform(x)\n",
    "df = pd.DataFrame(x_scaled)\n",
    "df.head(10)"
   ]
  },
  {
   "cell_type": "code",
   "execution_count": null,
   "metadata": {
    "id": "gyKLoRhwlN8O"
   },
   "outputs": [],
   "source": [
    "X = df.iloc[:,:-1].values\n",
    "Y = df.iloc[:,-1].values\n",
    "from sklearn.model_selection import train_test_split\n",
    "X_train,X_test,Y_train,Y_test=train_test_split(X,Y,test_size=0.20,shuffle=True,random_state=42)"
   ]
  },
  {
   "cell_type": "code",
   "execution_count": null,
   "metadata": {
    "id": "rKxQWlUJlQr5"
   },
   "outputs": [],
   "source": [
    "from sklearn.preprocessing import StandardScaler\n",
    "sc=StandardScaler()\n",
    "X_train = sc.fit_transform(X_train)\n",
    "X_test = sc.fit_transform(X_test)"
   ]
  },
  {
   "cell_type": "code",
   "execution_count": null,
   "metadata": {
    "colab": {
     "base_uri": "https://localhost:8080/"
    },
    "id": "63eC0pKHlS6G",
    "outputId": "201dccd4-7633-4d08-c51e-3815df79501d"
   },
   "outputs": [],
   "source": [
    "X_train.shape"
   ]
  },
  {
   "cell_type": "code",
   "execution_count": null,
   "metadata": {
    "colab": {
     "base_uri": "https://localhost:8080/"
    },
    "id": "mDmG_x85lV2e",
    "outputId": "5092f52a-bab6-4928-add2-6b71f5a9ca05"
   },
   "outputs": [],
   "source": [
    "Y_test.shape"
   ]
  },
  {
   "cell_type": "code",
   "execution_count": null,
   "metadata": {
    "colab": {
     "base_uri": "https://localhost:8080/"
    },
    "id": "Wc42gxe3OCT3",
    "outputId": "72d44964-08aa-48d4-edb6-752db7b5c2a9"
   },
   "outputs": [],
   "source": [
    "from sklearn.ensemble import RandomForestClassifier\n",
    "\n",
    "# Random Forest\n",
    "random_forest = RandomForestClassifier(n_estimators = 10, max_features=24, criterion='entropy', random_state = 42)\n",
    "random_forest.fit(X_train, Y_train)\n",
    "random_forest.score(X_test, Y_test)"
   ]
  },
  {
   "cell_type": "code",
   "execution_count": null,
   "metadata": {
    "id": "EouREsO-lpRf"
   },
   "outputs": [],
   "source": [
    "#Applying StandardScaler\n",
    "scaler = StandardScaler()"
   ]
  },
  {
   "cell_type": "code",
   "execution_count": null,
   "metadata": {
    "id": "JxB3nCGLlrl-"
   },
   "outputs": [],
   "source": [
    "#Reshaping the dataset to 3-D to pass it through CNN\n",
    "X_train = X_train.reshape(320,24,1)\n",
    "X_test = X_test.reshape(80,24,1)"
   ]
  },
  {
   "cell_type": "markdown",
   "metadata": {
    "id": "IBEVdyHjnZrX"
   },
   "source": [
    "## **CNN**"
   ]
  },
  {
   "cell_type": "code",
   "execution_count": null,
   "metadata": {
    "colab": {
     "base_uri": "https://localhost:8080/"
    },
    "id": "EbJki8o5lurv",
    "outputId": "fad4e13a-9852-4465-9db4-f70fc80cf5a9"
   },
   "outputs": [],
   "source": [
    "import tensorflow as tf \n",
    "import time\n",
    "import pandas as pd  \n",
    "import numpy as np \n",
    "import matplotlib.pyplot as plt \n",
    "import keras \n",
    "from keras import regularizers\n",
    "from keras.models import Sequential \n",
    "from keras.layers import Dense, Flatten, Conv1D, Conv2D, MaxPooling2D, Dropout, Activation, BatchNormalization\n",
    "from sklearn.metrics import confusion_matrix \n",
    "from keras.optimizers import Adam, RMSprop, SGD, Adamax, Nadam\n",
    "\n",
    "#Preparing the CNN model\n",
    "model = Sequential()\n",
    "model.add(Conv1D(filters=16,kernel_size=2,kernel_initializer='normal', kernel_regularizer= regularizers.l2(0.01),activation='relu',input_shape=(24,1)))\n",
    "model.add(BatchNormalization())\n",
    "model.add(Dropout(0.1))\n",
    "\n",
    "model.add(Conv1D(16,1,kernel_initializer='normal', kernel_regularizer= regularizers.l2(0.01),activation='relu'))\n",
    "model.add(BatchNormalization())\n",
    "model.add(Dropout(0.1))\n",
    "\n",
    "model.add(Flatten())\n",
    "model.add(Dense(16,kernel_initializer='normal', kernel_regularizer= regularizers.l2(0.01),activation='relu'))\n",
    "model.add(Dropout(0.1))\n",
    "\n",
    "model.add(Dense(8,kernel_initializer='normal', kernel_regularizer= regularizers.l2(0.01),activation='relu'))\n",
    "model.add(Dropout(0.15))\n",
    "\n",
    "model.add(Dense(1,kernel_initializer='normal', kernel_regularizer= regularizers.l2(0.01),activation='sigmoid'))\n",
    "print(model.summary())\n",
    "start = time.time()\n",
    "model.compile(loss='mse', optimizer='adam') #adam\n",
    "print('Compilation time: ', time.time() - start)\n",
    "start = time.time()\n",
    "\n",
    "model.compile(optimizer=Adam(learning_rate=0.1),loss='binary_crossentropy',metrics=['accuracy'])"
   ]
  },
  {
   "cell_type": "code",
   "execution_count": null,
   "metadata": {
    "colab": {
     "base_uri": "https://localhost:8080/"
    },
    "id": "Ui6xaD6Slxvv",
    "outputId": "ed5ee231-1e0f-4d32-c314-ed9f578bf9b9"
   },
   "outputs": [],
   "source": [
    "history = model.fit(X_train,Y_train,epochs=8,verbose=1,validation_data=(X_test,Y_test))"
   ]
  },
  {
   "cell_type": "markdown",
   "metadata": {
    "id": "wM7KPTj1SzKp"
   },
   "source": []
  },
  {
   "cell_type": "code",
   "execution_count": null,
   "metadata": {
    "colab": {
     "base_uri": "https://localhost:8080/"
    },
    "id": "ONa-G4eblzGA",
    "outputId": "0be474ec-150b-4ff8-e9f7-20009e1060f6"
   },
   "outputs": [],
   "source": [
    "# Final evaluation of the model\n",
    "scores = model.evaluate(X_test, Y_test, verbose=1)\n",
    "print(\"Accuracy: %.2f%%\" % (scores[1]*100))"
   ]
  },
  {
   "cell_type": "code",
   "execution_count": null,
   "metadata": {
    "id": "3WN9Q3lKl3ZA"
   },
   "outputs": [],
   "source": [
    "#Plots of Accuracy and Loss\n",
    "def plotLearningCurve(history,epochs):\n",
    "  epochRange = range(1,epochs+1)\n",
    "  plt.plot(epochRange,history.history['accuracy'])\n",
    "  plt.plot(epochRange,history.history['val_accuracy'])\n",
    "  plt.title('Model Accuracy')\n",
    "  plt.xlabel('Epoch')\n",
    "  plt.ylabel('Accuracy')\n",
    "  plt.legend(['Train','Validation'],loc='upper left')\n",
    "  plt.show()\n",
    "\n",
    "  plt.plot(epochRange,history.history['loss'])\n",
    "  plt.plot(epochRange,history.history['val_loss'])\n",
    "  plt.title('Model Loss')\n",
    "  plt.xlabel('Epoch')\n",
    "  plt.ylabel('Loss')\n",
    "  plt.legend(['Train','Validation'],loc='upper left')\n",
    "  plt.show()"
   ]
  },
  {
   "cell_type": "code",
   "execution_count": null,
   "metadata": {
    "colab": {
     "base_uri": "https://localhost:8080/",
     "height": 585
    },
    "id": "Sra2YlkPl6S6",
    "outputId": "2f8dbca5-d25c-40a5-f2bd-8fb3ce8ebe78"
   },
   "outputs": [],
   "source": [
    "plotLearningCurve(history,8)"
   ]
  },
  {
   "cell_type": "code",
   "execution_count": null,
   "metadata": {
    "colab": {
     "base_uri": "https://localhost:8080/"
    },
    "id": "KrJSjzDRl81_",
    "outputId": "2f033297-dc53-43fd-802a-235d94074b0d"
   },
   "outputs": [],
   "source": [
    "from sklearn.metrics import classification_report, confusion_matrix, log_loss, cohen_kappa_score\n",
    "from sklearn.model_selection import train_test_split\n",
    "from sklearn import metrics\n",
    "y_true, y_pred = Y_test , model.predict(X_test)\n",
    "\n",
    "print('Results on the test set:')\n",
    "y_pred = y_pred.round()\n",
    "print(classification_report(y_true, y_pred))\n",
    "\n",
    "cm7 = confusion_matrix(y_true, y_pred)\n",
    " \n",
    "TP = cm7[0][0]\n",
    "TN = cm7[1][1]\n",
    "FP = cm7[0][1]\n",
    "FN = cm7[1][0]\n",
    "\n",
    "var = ((TP + TN)/(TP + TN + FP + FN)) *100\n",
    "print('Testing accuracy : ',var)\n",
    "print('Sensitivity : ', TP/(TP+FN)*100)\n",
    "print('Specificity : ', TN/(TN+FP)*100)\n",
    "print('Precision : ', TP/(TP+FP)*100)\n",
    "print('false positive rate : ', FP/(FP+TN)*100)\n",
    "print('false negative rate : ', FN/(FN+TP)*100)\n",
    "print('Negative Predictive Value : ', TN/(TN+FN)*100)\n",
    "print('False Discovery rate : ', FP/(TP+FP)*100)\n",
    "print('Mean Absolute Error:', metrics.mean_absolute_error(y_true, y_pred)*100)\n",
    "print('Mean Squared Error:', metrics.mean_squared_error(y_true, y_pred)*100)\n",
    "print('Root Mean Squared Error:', np.sqrt(metrics.mean_squared_error(y_true, y_pred))*100)\n",
    "#print('Log_Loss:', metrics.log_loss(y_true, y_pred)*100)\n",
    "#print('Cohen_Kappa_Score:', metrics.cohen_kappa_score(y_true, y_pred)*100)"
   ]
  },
  {
   "cell_type": "code",
   "execution_count": null,
   "metadata": {
    "colab": {
     "base_uri": "https://localhost:8080/",
     "height": 466
    },
    "id": "puh-8hEYmG7p",
    "outputId": "741ef5b0-b94d-4b79-989d-9950904f8985"
   },
   "outputs": [],
   "source": [
    "from sklearn.metrics import roc_curve, roc_auc_score\n",
    "fpr, tpr, _ = roc_curve(y_true, y_pred) \n",
    "fig, ax1 = plt.subplots(1,1, figsize = (5, 5), dpi = 100)\n",
    "ax1.plot(fpr, tpr, 'b.-', label = 'CNN_Model (AUC:%2.2f)' % roc_auc_score(y_true, y_pred))\n",
    "ax1.plot(fpr, fpr, 'k-', label = 'Random Guessing')\n",
    "ax1.legend(loc = 4)\n",
    "ax1.set_xlabel('False Positive Rate')\n",
    "ax1.set_ylabel('True Positive Rate');\n",
    "fig.savefig('roc.pdf')"
   ]
  },
  {
   "cell_type": "markdown",
   "metadata": {
    "id": "oMULaK4snOw_"
   },
   "source": [
    "## **ANN**"
   ]
  },
  {
   "cell_type": "code",
   "execution_count": null,
   "metadata": {
    "colab": {
     "base_uri": "https://localhost:8080/"
    },
    "id": "EI899WiqmnsI",
    "outputId": "504e3efe-73c7-42b7-8c62-89fbda5371f0"
   },
   "outputs": [],
   "source": [
    "import tensorflow as tf \n",
    "import time\n",
    "import pandas as pd \n",
    "import numpy as np \n",
    "import matplotlib.pyplot as plt \n",
    "import keras \n",
    "from keras.models import Sequential \n",
    "from keras.layers import Dense \n",
    "from sklearn.metrics import confusion_matrix \n",
    "\n",
    "def create_model():\n",
    "    classifier = Sequential() \n",
    "    classifier.add(Dense(activation = \"relu\", input_dim = 24, units = 8, kernel_initializer = \"uniform\"))\n",
    "#classifier.add(Dense(activation = \"relu\", units = 28,  \n",
    "                    # kernel_initializer = \"uniform\"))  \n",
    "    classifier.add(Dense(activation = \"relu\", units = 18, kernel_initializer = \"uniform\")) \n",
    "    classifier.add(Dense(activation = \"sigmoid\", units = 1,  \n",
    " kernel_initializer = \"uniform\")) \n",
    "\n",
    "    start = time.time()\n",
    "    classifier.compile(loss='mse', optimizer='adam')\n",
    "    print('compilation time : ', time.time() - start)\n",
    "    \n",
    "    adam = Adam(lr=0.09)\n",
    "    classifier.compile(optimizer = 'adam' , loss = 'binary_crossentropy',  \n",
    "                   metrics = ['accuracy'] ) \n",
    "\n",
    "    return classifier\n",
    "classifier = create_model()\n",
    "print(classifier.summary())"
   ]
  },
  {
   "cell_type": "code",
   "execution_count": null,
   "metadata": {
    "colab": {
     "base_uri": "https://localhost:8080/"
    },
    "id": "EwOj2yS_mrEF",
    "outputId": "754b6853-ffd5-486e-c7ed-08ba80fb9917"
   },
   "outputs": [],
   "source": [
    "history = classifier.fit(X_train,Y_train,epochs=8,verbose=1,validation_data=(X_test,Y_test))"
   ]
  },
  {
   "cell_type": "code",
   "execution_count": null,
   "metadata": {
    "colab": {
     "base_uri": "https://localhost:8080/"
    },
    "id": "wBOoSKRomr7H",
    "outputId": "f9f7fdb1-71d9-4e72-c036-8dafdfd5f570"
   },
   "outputs": [],
   "source": [
    "# Final evaluation of the model\n",
    "scores = classifier.evaluate(X_test, Y_test, verbose=1)\n",
    "print(\"Accuracy: %.2f%%\" % (scores[1]*100))"
   ]
  },
  {
   "cell_type": "code",
   "execution_count": null,
   "metadata": {
    "id": "d8y9hldRmxX6"
   },
   "outputs": [],
   "source": [
    "#Plots of Accuracy and Loss\n",
    "def plotLearningCurve(history,epochs):\n",
    "  epochRange = range(1,epochs+1)\n",
    "  plt.plot(epochRange,history.history['accuracy'])\n",
    "  plt.plot(epochRange,history.history['val_accuracy'])\n",
    "  plt.title('Model Accuracy')\n",
    "  plt.xlabel('Epoch')\n",
    "  plt.ylabel('Accuracy')\n",
    "  plt.legend(['Train','Validation'],loc='upper left')\n",
    "  plt.show()\n",
    "\n",
    "  plt.plot(epochRange,history.history['loss'])\n",
    "  plt.plot(epochRange,history.history['val_loss'])\n",
    "  plt.title('Model Loss')\n",
    "  plt.xlabel('Epoch')\n",
    "  plt.ylabel('Loss')\n",
    "  plt.legend(['Train','Validation'],loc='upper left')\n",
    "  plt.show()"
   ]
  },
  {
   "cell_type": "code",
   "execution_count": null,
   "metadata": {
    "colab": {
     "base_uri": "https://localhost:8080/",
     "height": 585
    },
    "id": "hhF6L9_gmz8G",
    "outputId": "5bd0c820-7dbd-4eb4-e3ee-1d09812c15f9"
   },
   "outputs": [],
   "source": [
    "plotLearningCurve(history,8)"
   ]
  },
  {
   "cell_type": "code",
   "execution_count": null,
   "metadata": {
    "colab": {
     "base_uri": "https://localhost:8080/"
    },
    "id": "uGKzHmU6m0yf",
    "outputId": "b14f3a51-5d1b-4ef4-ed0f-292ab49937ff"
   },
   "outputs": [],
   "source": [
    "from sklearn.metrics import classification_report, confusion_matrix, log_loss, cohen_kappa_score\n",
    "from sklearn.model_selection import train_test_split\n",
    "from sklearn import metrics\n",
    "y_true, y_pred = Y_test , model.predict(X_test)\n",
    "\n",
    "print('Results on the test set:')\n",
    "y_pred = y_pred.round()\n",
    "print(classification_report(y_true, y_pred))\n",
    "\n",
    "cm7 = confusion_matrix(y_true, y_pred)\n",
    " \n",
    "TP = cm7[0][0]\n",
    "TN = cm7[1][1]\n",
    "FP = cm7[0][1]\n",
    "FN = cm7[1][0]\n",
    "\n",
    "var = ((TP + TN)/(TP + TN + FP + FN)) *100\n",
    "print('Testing accuracy : ',var)\n",
    "print('Sensitivity : ', TP/(TP+FN)*100)\n",
    "print('Specificity : ', TN/(TN+FP)*100)\n",
    "print('Precision : ', TP/(TP+FP)*100)\n",
    "print('false positive rate : ', FP/(FP+TN)*100)\n",
    "print('false negative rate : ', FN/(FN+TP)*100)\n",
    "print('Negative Predictive Value : ', TN/(TN+FN)*100)\n",
    "print('False Discovery rate : ', FP/(TP+FP)*100)\n",
    "print('Mean Absolute Error:', metrics.mean_absolute_error(y_true, y_pred)*100)\n",
    "print('Mean Squared Error:', metrics.mean_squared_error(y_true, y_pred)*100)\n",
    "print('Root Mean Squared Error:', np.sqrt(metrics.mean_squared_error(y_true, y_pred))*100)\n",
    "#print('Log_Loss:', metrics.log_loss(y_true, y_pred)*100)\n",
    "#print('Cohen_Kappa_Score:', metrics.cohen_kappa_score(y_true, y_pred)*100)"
   ]
  },
  {
   "cell_type": "code",
   "execution_count": null,
   "metadata": {
    "colab": {
     "base_uri": "https://localhost:8080/",
     "height": 466
    },
    "id": "nsJypITbm6_S",
    "outputId": "68f97b67-1a95-4a03-d74d-f6bae6c2954b"
   },
   "outputs": [],
   "source": [
    "from sklearn.metrics import roc_curve, roc_auc_score\n",
    "fpr, tpr, _ = roc_curve(y_true, y_pred) \n",
    "fig, ax1 = plt.subplots(1,1, figsize = (5, 5), dpi = 100)\n",
    "ax1.plot(fpr, tpr, 'b.-', label = 'ANN_Model (AUC:%2.2f)' % roc_auc_score(y_true, y_pred))\n",
    "ax1.plot(fpr, fpr, 'k-', label = 'Random Guessing')\n",
    "ax1.legend(loc = 4)\n",
    "ax1.set_xlabel('False Positive Rate')\n",
    "ax1.set_ylabel('True Positive Rate');\n",
    "fig.savefig('roc.pdf')"
   ]
  },
  {
   "cell_type": "markdown",
   "metadata": {
    "id": "0M52XgW7m_OD"
   },
   "source": [
    "## **LSTM Approach**"
   ]
  },
  {
   "cell_type": "code",
   "execution_count": null,
   "metadata": {
    "id": "7MoursNcneLa"
   },
   "outputs": [],
   "source": [
    "from keras.layers.recurrent import LSTM\n",
    "from keras.models import Sequential"
   ]
  },
  {
   "cell_type": "code",
   "execution_count": null,
   "metadata": {
    "id": "EM0cIJHcniAR"
   },
   "outputs": [],
   "source": [
    "X_train = X_train.reshape(320,24,1)\n",
    "X_test = X_test.reshape(80,24,1)"
   ]
  },
  {
   "cell_type": "code",
   "execution_count": null,
   "metadata": {
    "colab": {
     "base_uri": "https://localhost:8080/"
    },
    "id": "Rv85xzFnnmx6",
    "outputId": "f8552a32-781d-407a-a446-4d1b9817657e"
   },
   "outputs": [],
   "source": [
    "# The LSTM architecture\n",
    "regressor = Sequential()\n",
    "# First LSTM layer with Dropout regularisation\n",
    "regressor.add(LSTM(units=64, activation= 'relu', kernel_initializer= 'uniform', return_sequences = True, input_shape=(X_train.shape[1],X_train.shape[2])))\n",
    "regressor.add(Dropout(0.5))\n",
    "# Second LSTM layer\n",
    "regressor.add(LSTM(units=32,activation= 'relu', return_sequences=True))\n",
    "regressor.add(Dropout(0.1))\n",
    "# Third LSTM layer\n",
    "regressor.add(LSTM(units=24, return_sequences=True))\n",
    "regressor.add(Dropout(0.08))\n",
    "# Fourth LSTM layer\n",
    "regressor.add(LSTM(units=64))\n",
    "regressor.add(Dropout(0.8))\n",
    "# The output layer\n",
    "regressor.add(Dense(units=1))\n",
    "\n",
    "\n",
    "regressor.compile(optimizer=\"adam\",loss=\"binary_crossentropy\", metrics=['accuracy'])\n",
    "print('compilation time : ', time.time() - start)\n",
    "# Fitting to the training set\n",
    "#regressor.fit(X_train,Y_train, batch_size=8, epochs=20,verbose=1,validation_split=0.10)\n",
    "history = regressor.fit(X_train,Y_train,batch_size=8, epochs=8,verbose=1,validation_data=(X_test,Y_test))"
   ]
  },
  {
   "cell_type": "code",
   "execution_count": null,
   "metadata": {
    "colab": {
     "base_uri": "https://localhost:8080/"
    },
    "id": "BF41CUgpnpyi",
    "outputId": "6c2d9b03-e626-42fd-a418-8aac1f76621f"
   },
   "outputs": [],
   "source": [
    "# Final evaluation of the model\n",
    "scores = regressor.evaluate(X_test, Y_test, verbose=1)\n",
    "print(\"Accuracy: %.2f%%\" % (scores[1]*100))"
   ]
  },
  {
   "cell_type": "code",
   "execution_count": null,
   "metadata": {
    "id": "1YlLJws58O0N"
   },
   "outputs": [],
   "source": [
    "#Plots of Accuracy and Loss\n",
    "def plotLearningCurve(history,epochs):\n",
    "  epochRange = range(1,epochs+1)\n",
    "  plt.plot(epochRange,history.history['accuracy'])\n",
    "  plt.plot(epochRange,history.history['val_accuracy'])\n",
    "  plt.title('Model Accuracy')\n",
    "  plt.xlabel('Epoch')\n",
    "  plt.ylabel('Accuracy')\n",
    "  plt.legend(['Train','Validation'],loc='upper left')\n",
    "  plt.show()\n",
    "\n",
    "  plt.plot(epochRange,history.history['loss'])\n",
    "  plt.plot(epochRange,history.history['val_loss'])\n",
    "  plt.title('Model Loss')\n",
    "  plt.xlabel('Epoch')\n",
    "  plt.ylabel('Loss')\n",
    "  plt.legend(['Train','Validation'],loc='upper left')\n",
    "  plt.show()"
   ]
  },
  {
   "cell_type": "code",
   "execution_count": null,
   "metadata": {
    "colab": {
     "base_uri": "https://localhost:8080/",
     "height": 585
    },
    "id": "16s9JJ848VEy",
    "outputId": "183f8af9-3095-4b0a-d810-8439e7bc6271"
   },
   "outputs": [],
   "source": [
    "plotLearningCurve(history,8)"
   ]
  },
  {
   "cell_type": "code",
   "execution_count": null,
   "metadata": {
    "colab": {
     "base_uri": "https://localhost:8080/",
     "height": 466
    },
    "id": "2mBC8Ppmns1a",
    "outputId": "44eae923-2058-42cd-fffa-061e9c7ecf73"
   },
   "outputs": [],
   "source": [
    "from sklearn.metrics import roc_curve, roc_auc_score\n",
    "fpr, tpr, _ = roc_curve(y_true, y_pred) \n",
    "fig, ax1 = plt.subplots(1,1, figsize = (5, 5), dpi = 100)\n",
    "ax1.plot(fpr, tpr, 'b.-', label = 'LSTM_Model (AUC:%2.2f)' % roc_auc_score(y_true, y_pred))\n",
    "ax1.plot(fpr, fpr, 'k-', label = 'Random Guessing')\n",
    "ax1.legend(loc = 4)\n",
    "ax1.set_xlabel('False Positive Rate')\n",
    "ax1.set_ylabel('True Positive Rate');\n",
    "fig.savefig('roc.pdf')"
   ]
  },
  {
   "cell_type": "code",
   "execution_count": null,
   "metadata": {
    "colab": {
     "base_uri": "https://localhost:8080/"
    },
    "id": "YU_OnE2rn1Kg",
    "outputId": "ab02baaa-6b20-4908-a68a-8f74e9a4e30e"
   },
   "outputs": [],
   "source": [
    "from sklearn.metrics import classification_report, confusion_matrix, log_loss, cohen_kappa_score\n",
    "from sklearn.model_selection import train_test_split\n",
    "from sklearn import metrics\n",
    "y_true, y_pred = Y_test , model.predict(X_test)\n",
    "\n",
    "print('Results on the test set:')\n",
    "y_pred = y_pred.round()\n",
    "print(classification_report(y_true, y_pred))\n",
    "\n",
    "cm7 = confusion_matrix(y_true, y_pred)\n",
    " \n",
    "TP = cm7[0][0]\n",
    "TN = cm7[1][1]\n",
    "FP = cm7[0][1]\n",
    "FN = cm7[1][0]\n",
    "\n",
    "var = ((TP + TN)/(TP + TN + FP + FN)) *100\n",
    "print('Testing accuracy : ',var)\n",
    "print('Sensitivity : ', TP/(TP+FN)*100)\n",
    "print('Specificity : ', TN/(TN+FP)*100)\n",
    "print('Precision : ', TP/(TP+FP)*100)\n",
    "print('false positive rate : ', FP/(FP+TN)*100)\n",
    "print('false negative rate : ', FN/(FN+TP)*100)\n",
    "print('Negative Predictive Value : ', TN/(TN+FN)*100)\n",
    "print('False Discovery rate : ', FP/(TP+FP)*100)\n",
    "print('Mean Absolute Error:', metrics.mean_absolute_error(y_true, y_pred)*100)\n",
    "print('Mean Squared Error:', metrics.mean_squared_error(y_true, y_pred)*100)\n",
    "print('Root Mean Squared Error:', np.sqrt(metrics.mean_squared_error(y_true, y_pred))*100)\n",
    "#print('Log_Loss:', metrics.log_loss(y_true, y_pred)*100)\n",
    "#print('Cohen_Kappa_Score:', metrics.cohen_kappa_score(y_true, y_pred)*100)"
   ]
  },
  {
   "cell_type": "code",
   "execution_count": null,
   "metadata": {
    "colab": {
     "base_uri": "https://localhost:8080/"
    },
    "id": "on57C_RNn4OT",
    "outputId": "14ffc838-8cd4-4454-92a1-d3056b8b72ca"
   },
   "outputs": [],
   "source": [
    "from sklearn.metrics import precision_score, recall_score, f1_score\n",
    "print('Precision: %.3f' % precision_score(Y_test, y_pred))\n",
    "print('Recall: %.3f' % recall_score(Y_test, y_pred))\n",
    "print('F1 Score: %.3f' % f1_score(Y_test, y_pred))"
   ]
  }
 ],
 "metadata": {
  "colab": {
   "collapsed_sections": [],
   "name": "Final Copy of  Kidney Disease Paper",
   "provenance": []
  },
  "kernelspec": {
   "display_name": "Python 3 (ipykernel)",
   "language": "python",
   "name": "python3"
  },
  "language_info": {
   "codemirror_mode": {
    "name": "ipython",
    "version": 3
   },
   "file_extension": ".py",
   "mimetype": "text/x-python",
   "name": "python",
   "nbconvert_exporter": "python",
   "pygments_lexer": "ipython3",
   "version": "3.9.7"
  }
 },
 "nbformat": 4,
 "nbformat_minor": 1
}
